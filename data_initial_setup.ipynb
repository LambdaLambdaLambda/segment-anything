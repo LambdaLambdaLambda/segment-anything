{
 "cells": [
  {
   "cell_type": "code",
   "execution_count": 2,
   "id": "8afa8a70-1d0e-45b3-80cc-711307943615",
   "metadata": {
    "execution": {
     "iopub.execute_input": "2023-04-29T13:33:13.102294Z",
     "iopub.status.busy": "2023-04-29T13:33:13.101438Z",
     "iopub.status.idle": "2023-04-29T13:33:13.105909Z",
     "shell.execute_reply": "2023-04-29T13:33:13.105087Z",
     "shell.execute_reply.started": "2023-04-29T13:33:13.102255Z"
    },
    "tags": []
   },
   "outputs": [],
   "source": [
    "!wget https://dl.fbaipublicfiles.com/segment_anything/sam_vit_l_0b3195.pth\n",
    "!wget https://dl.fbaipublicfiles.com/segment_anything/sam_vit_b_01ec64.pth\n",
    "!wget https://dl.fbaipublicfiles.com/segment_anything/sam_vit_h_0b3195.pth"
   ]
  },
  {
   "cell_type": "code",
   "execution_count": null,
   "id": "ff079ce5-609a-403d-9f03-fb4dc95b6c50",
   "metadata": {
    "tags": []
   },
   "outputs": [],
   "source": [
    "#url = 'https://drive.google.com/uc?id=1XKQJCptrk1NtOgvg-A2DO4XySKwnxkRV'\n",
    "#out_path = 'annotated_datasets_for_yolo.zip' \n",
    "#gdown.download(url, out_path, quiet=False)\n",
    "gdrive_file_id = '1KxgEgLGMuqswkRNSCugToKU9AG0NOftK'\n",
    "gdrive_file_name = 'ESCA_dataset_robustness_paper.zip'\n",
    "prms = {\n",
    "    'load-cookies': '/tmp/cookies.txt',\n",
    "    'O': gdrive_file_name\n",
    "}\n",
    "\n",
    "url = f\"https://docs.google.com/uc?export=download&confirm=$(wget --quiet --save-cookies {prms['load-cookies']} --keep-session-cookies --no-check-certificate 'https://docs.google.com/uc?export=download&id={gdrive_file_id}' -O- | sed -rn 's/.*confirm=([0-9A-Za-z_]+).*/\\1\\n/p')&id={gdrive_file_id}\"\n",
    "!wget --load-cookies {prms['load-cookies']} {url} -O {prms['O']}\n",
    "!rm -rf {prms['load-cookies']}\n",
    "local_path_of_dataset = os.path.join(*['/', 'home', 'paperspace', 'GitHub', 'Robustness_of_Esca_detection', 'Python_files', 'ESCA_dataset'])\n",
    "!unzip {gdrive_file_name} -d {local_path_of_dataset}"
   ]
  }
 ],
 "metadata": {
  "kernelspec": {
   "display_name": "Python 3 (ipykernel)",
   "language": "python",
   "name": "python3"
  },
  "language_info": {
   "codemirror_mode": {
    "name": "ipython",
    "version": 3
   },
   "file_extension": ".py",
   "mimetype": "text/x-python",
   "name": "python",
   "nbconvert_exporter": "python",
   "pygments_lexer": "ipython3",
   "version": "3.9.16"
  }
 },
 "nbformat": 4,
 "nbformat_minor": 5
}
