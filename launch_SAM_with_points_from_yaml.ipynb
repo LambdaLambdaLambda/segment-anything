{
 "cells": [
  {
   "cell_type": "code",
   "execution_count": null,
   "metadata": {
    "collapsed": true
   },
   "outputs": [],
   "source": [
    "import yaml\n",
    "import io\n",
    "import os\n",
    "import numpy as np\n",
    "\n",
    "CWFID_dataset = {\n",
    "    'annotations': os.path.join(*['CWFID_dataset', 'annotations']),\n",
    "    'images': os.path.join(*['CWFID_dataset', 'images']),\n",
    "    'masks': os.path.join(*['CWFID_dataset', 'masks']),\n",
    "    'SAM_masks': os.path.join(*['CWFID_dataset', 'SAM_masks'])\n",
    "}\n",
    "\n",
    "\n",
    "yaml_folder = os.path.join(*['annotations'])\n",
    "yaml_file_list = os.listdir(yaml_folder)\n",
    "yaml_file_list = [os.path.join(*[yaml_folder, f]) for f in yaml_file_list if\n",
    "                  f.endswith('.yaml')\n",
    "                  and not f.startswith('._')\n",
    "                  and os.path.isfile(os.path.join(*[yaml_folder, f]))\n",
    "                  ]\n",
    "yaml_file_list.sort() # contains ordered list of full paths only of yaml files inside yaml_folder\n",
    "\n",
    "for filename in yaml_file_list:\n",
    "    with open(filename, 'r') as stream:\n",
    "        data_loaded = yaml.safe_load(stream)\n",
    "        print(f\"{data_loaded['filename']}\")\n",
    "        for rec in data_loaded['annotation']:\n",
    "            coordinates = list(zip(rec['points']['x'], rec['points']['y']))\n",
    "            n = len(coordinates)\n",
    "            labels = np.empty(n)\n",
    "            labels.fill(1)\n",
    "        pass"
   ]
  }
 ],
 "metadata": {
  "kernelspec": {
   "display_name": "Python 3",
   "language": "python",
   "name": "python3"
  },
  "language_info": {
   "codemirror_mode": {
    "name": "ipython",
    "version": 2
   },
   "file_extension": ".py",
   "mimetype": "text/x-python",
   "name": "python",
   "nbconvert_exporter": "python",
   "pygments_lexer": "ipython2",
   "version": "2.7.6"
  }
 },
 "nbformat": 4,
 "nbformat_minor": 0
}
