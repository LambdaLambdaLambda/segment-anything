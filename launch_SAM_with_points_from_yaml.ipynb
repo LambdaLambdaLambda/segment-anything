{
 "cells": [
  {
   "cell_type": "code",
   "execution_count": null,
   "metadata": {
    "collapsed": true,
    "pycharm": {
     "is_executing": true
    }
   },
   "outputs": [],
   "source": [
    "import yaml\n",
    "import io\n",
    "import os\n",
    "from enum import Enum\n",
    "import json\n",
    "import numpy as np\n",
    "import matplotlib.pyplot as plt\n",
    "import torch\n",
    "from segment_anything import sam_model_registry, SamAutomaticMaskGenerator, SamPredictor\n",
    "\n",
    "class Labels(Enum):\n",
    "    BACKGROUND = 0\n",
    "    WEED = 1\n",
    "    CROP = 2\n",
    "\n",
    "CWFID_dataset = {\n",
    "    'annotations': os.path.join(*['CWFID_dataset', 'annotations']),\n",
    "    'images': os.path.join(*['CWFID_dataset', 'images']),\n",
    "    'masks': os.path.join(*['CWFID_dataset', 'masks']),\n",
    "    'SAM_masks': os.path.join(*['CWFID_dataset', 'SAM_masks'])\n",
    "}\n",
    "\n",
    "yaml_file_list = os.listdir(CWFID_dataset['annotations'])\n",
    "yaml_file_list = [os.path.join(*[CWFID_dataset['annotations'], f]) for f in yaml_file_list if\n",
    "                  f.endswith('.yaml')\n",
    "                  and not f.startswith('._')\n",
    "                  and os.path.isfile(os.path.join(*[CWFID_dataset['annotations'], f]))\n",
    "                  ]\n",
    "yaml_file_list.sort() # contains ordered list of full paths only of yaml files inside yaml_folder\n",
    "\n",
    "for filename in yaml_file_list:\n",
    "    with open(filename, 'r') as stream:\n",
    "        data_loaded = yaml.safe_load(stream)\n",
    "        print(f\"Full name: {os.path.join(*[CWFID_dataset['annotations'], data_loaded['filename']])}\")\n",
    "        for rec in data_loaded['annotation']:\n",
    "            print(f\"{rec['type']}\")\n",
    "            try: # some annotations do not contain coordinates represented as lists\n",
    "                iterator = iter(rec['points']['x'])\n",
    "                iterator = iter(rec['points']['y'])\n",
    "            except TypeError:\n",
    "                coordinates = [(rec['points']['x'], rec['points']['y'])]\n",
    "            else:\n",
    "                coordinates = list(zip(rec['points']['x'], rec['points']['y']))\n",
    "            n = len(coordinates)\n",
    "            labels = np.empty(n) #prepare the array of labels as requesed by SAM in predictor mode\n",
    "            if rec['type'] == 'weed':\n",
    "                labels.fill(Labels.WEED.value)\n",
    "            elif rec['type'] == 'crop':\n",
    "                labels.fill(Labels.CROP.value)\n",
    "        pass"
   ]
  },
  {
   "cell_type": "code",
   "execution_count": null,
   "outputs": [],
   "source": [
    "sam_checkpoint = \"sam_vit_h_4b8939.pth\"\n",
    "model_type = \"vit_h\"\n",
    "device = \"cpu\"\n",
    "sam = sam_model_registry[model_type](checkpoint=sam_checkpoint)\n",
    "sam.to(device=device)\n",
    "predictor = SamPredictor(sam)"
   ],
   "metadata": {
    "collapsed": false
   }
  },
  {
   "cell_type": "code",
   "execution_count": null,
   "outputs": [],
   "source": [
    "image_list = os.listdir(CWFID_dataset['images'])\n",
    "image_list = [os.path.join(*[CWFID_dataset['images'], f]) for f in image_list if\n",
    "              f.endswith('.png')\n",
    "              and not f.startswith('.')\n",
    "              and os.path.isfile(os.path.join(*[CWFID_dataset['images'], f]))\n",
    "              ]\n",
    "image_list.sort() # contains ordered list of full paths only of png files\n",
    "\n",
    "for filename in image_list:\n",
    "    img = plt.imread(filename)\n",
    "    predictor.set_image(img)\n",
    "    input_points = np.array([[500, 375]])\n",
    "    input_labels = np.array([1])"
   ],
   "metadata": {
    "collapsed": false
   }
  }
 ],
 "metadata": {
  "kernelspec": {
   "display_name": "Python 3",
   "language": "python",
   "name": "python3"
  },
  "language_info": {
   "codemirror_mode": {
    "name": "ipython",
    "version": 2
   },
   "file_extension": ".py",
   "mimetype": "text/x-python",
   "name": "python",
   "nbconvert_exporter": "python",
   "pygments_lexer": "ipython2",
   "version": "2.7.6"
  }
 },
 "nbformat": 4,
 "nbformat_minor": 0
}
