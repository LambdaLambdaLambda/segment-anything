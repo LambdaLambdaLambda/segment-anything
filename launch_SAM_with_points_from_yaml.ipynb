{
 "cells": [
  {
   "cell_type": "code",
   "execution_count": null,
   "outputs": [],
   "source": [
    "import yaml\n",
    "import io\n",
    "import os\n",
    "from enum import Enum\n",
    "import json\n",
    "import numpy as np\n",
    "import matplotlib.pyplot as plt\n",
    "import torch\n",
    "from segment_anything import sam_model_registry, SamAutomaticMaskGenerator, SamPredictor\n",
    "\n",
    "class Labels(Enum):\n",
    "    BACKGROUND = 0\n",
    "    WEED = 1\n",
    "    CROP = 2\n",
    "\n",
    "CWFID_dataset = {\n",
    "    'annotations': os.path.join(*['CWFID_dataset', 'annotations']),\n",
    "    'images': os.path.join(*['CWFID_dataset', 'images']),\n",
    "    'masks': os.path.join(*['CWFID_dataset', 'masks']),\n",
    "    'SAM_masks': os.path.join(*['CWFID_dataset', 'SAM_masks'])\n",
    "}"
   ],
   "metadata": {
    "collapsed": false
   }
  },
  {
   "cell_type": "code",
   "execution_count": null,
   "outputs": [],
   "source": [
    "def show_mask(mask, ax, random_color=False):\n",
    "    if random_color:\n",
    "        color = np.concatenate([np.random.random(3), np.array([0.6])], axis=0)\n",
    "    else:\n",
    "        color = np.array([30/255, 144/255, 255/255, 0.6])\n",
    "    h, w = mask.shape[-2:]\n",
    "    mask_image = mask.reshape(h, w, 1) * color.reshape(1, 1, -1)\n",
    "    ax.imshow(mask_image)\n",
    "\n",
    "def show_points(coords, labels, ax, marker_size=375):\n",
    "    pos_points = coords[labels==1]\n",
    "    neg_points = coords[labels==0]\n",
    "    ax.scatter(pos_points[:, 0], pos_points[:, 1], color='green', marker='*', s=marker_size, edgecolor='white', linewidth=1.25)\n",
    "    ax.scatter(neg_points[:, 0], neg_points[:, 1], color='red', marker='*', s=marker_size, edgecolor='white', linewidth=1.25)\n",
    "\n",
    "def show_box(box, ax):\n",
    "    x0, y0 = box[0], box[1]\n",
    "    w, h = box[2] - box[0], box[3] - box[1]\n",
    "    ax.add_patch(plt.Rectangle((x0, y0), w, h, edgecolor='green', facecolor=(0,0,0,0), lw=2))"
   ],
   "metadata": {
    "collapsed": false
   }
  },
  {
   "cell_type": "code",
   "execution_count": null,
   "outputs": [],
   "source": [
    "sam_checkpoint = \"sam_vit_h_4b8939.pth\"\n",
    "model_type = \"vit_h\"\n",
    "device = \"cpu\"\n",
    "sam = sam_model_registry[model_type](checkpoint=sam_checkpoint)\n",
    "sam.to(device=device)\n",
    "predictor = SamPredictor(sam)"
   ],
   "metadata": {
    "collapsed": false
   }
  },
  {
   "cell_type": "code",
   "execution_count": null,
   "outputs": [],
   "source": [
    "yaml_file_list = os.listdir(CWFID_dataset['annotations'])\n",
    "yaml_file_list = [os.path.join(*[CWFID_dataset['annotations'], f]) for f in yaml_file_list if\n",
    "                  f.endswith('.yaml')\n",
    "                  and not f.startswith('._')\n",
    "                  and os.path.isfile(os.path.join(*[CWFID_dataset['annotations'], f]))\n",
    "                  ]\n",
    "yaml_file_list.sort() # contains ordered list of full paths only of yaml files inside yaml_folder\n",
    "\n",
    "for filename in yaml_file_list:\n",
    "    with open(filename, 'r') as stream:\n",
    "        data_loaded = yaml.safe_load(stream)\n",
    "        filename = os.path.join(*[CWFID_dataset['images'], data_loaded['filename']])\n",
    "        print(f\"Full name: {filename}\")\n",
    "        for rec in data_loaded['annotation']:\n",
    "            print(f\"{rec['type']}\")\n",
    "            try: # some annotations do not contain coordinates represented as lists\n",
    "                iterator = iter(rec['points']['x'])\n",
    "                iterator = iter(rec['points']['y'])\n",
    "            except TypeError:\n",
    "                input_points = [[rec['points']['x'], rec['points']['y']]]\n",
    "            else:\n",
    "                input_points = [[x,y] for (x,y) in list(zip(rec['points']['x'], rec['points']['y']))]\n",
    "            n = len(input_points)\n",
    "            input_labels = np.empty(n) #prepare the array of labels as requested by SAM in predictor mode\n",
    "            if rec['type'] == 'weed':\n",
    "                input_labels.fill(Labels.WEED.value)\n",
    "            elif rec['type'] == 'crop':\n",
    "                input_labels.fill(Labels.CROP.value)\n",
    "        img = plt.imread(filename)\n",
    "        plt.figure(figsize=(10,10))\n",
    "        plt.imshow(img)\n",
    "        show_points(input_points, input_labels, plt.gca())\n",
    "        plt.axis('on')\n",
    "        plt.show()\n",
    "        predictor.set_image(img)\n",
    "        masks, scores, logits = predictor.predict(\n",
    "                                    point_coords=input_points,\n",
    "                                    point_labels=input_labels,\n",
    "                                    multimask_output=True\n",
    "                                )\n",
    "        for i, (mask, score) in enumerate(zip(masks, scores)):\n",
    "            plt.figure(figsize=(10,10))\n",
    "            plt.imshow(img)\n",
    "            show_mask(mask, plt.gca())\n",
    "            show_points(input_points, input_labels, plt.gca())\n",
    "            plt.title(f\"Mask {i+1}, Score: {score:.3f}\", fontsize=18)\n",
    "            plt.axis('off')\n",
    "            plt.show()\n",
    "        pass"
   ],
   "metadata": {
    "collapsed": false,
    "pycharm": {
     "is_executing": true
    }
   }
  }
 ],
 "metadata": {
  "kernelspec": {
   "display_name": "Python 3",
   "language": "python",
   "name": "python3"
  },
  "language_info": {
   "codemirror_mode": {
    "name": "ipython",
    "version": 2
   },
   "file_extension": ".py",
   "mimetype": "text/x-python",
   "name": "python",
   "nbconvert_exporter": "python",
   "pygments_lexer": "ipython2",
   "version": "2.7.6"
  }
 },
 "nbformat": 4,
 "nbformat_minor": 0
}
