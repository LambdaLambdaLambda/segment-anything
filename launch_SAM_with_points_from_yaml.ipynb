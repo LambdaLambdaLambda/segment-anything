{
 "cells": [
  {
   "cell_type": "code",
   "execution_count": 2,
   "metadata": {
    "collapsed": true
   },
   "outputs": [
    {
     "ename": "KeyError",
     "evalue": "'type'",
     "output_type": "error",
     "traceback": [
      "\u001B[0;31m---------------------------------------------------------------------------\u001B[0m",
      "\u001B[0;31mKeyError\u001B[0m                                  Traceback (most recent call last)",
      "Cell \u001B[0;32mIn[2], line 26\u001B[0m\n\u001B[1;32m     24\u001B[0m \u001B[38;5;28;01mwith\u001B[39;00m \u001B[38;5;28mopen\u001B[39m(filename, \u001B[38;5;124m'\u001B[39m\u001B[38;5;124mr\u001B[39m\u001B[38;5;124m'\u001B[39m) \u001B[38;5;28;01mas\u001B[39;00m stream:\n\u001B[1;32m     25\u001B[0m     data_loaded \u001B[38;5;241m=\u001B[39m yaml\u001B[38;5;241m.\u001B[39msafe_load(stream)\n\u001B[0;32m---> 26\u001B[0m     \u001B[38;5;28mprint\u001B[39m(\u001B[38;5;124mf\u001B[39m\u001B[38;5;124m\"\u001B[39m\u001B[38;5;132;01m{\u001B[39;00mdata_loaded[\u001B[38;5;124m'\u001B[39m\u001B[38;5;124mfilename\u001B[39m\u001B[38;5;124m'\u001B[39m]\u001B[38;5;132;01m}\u001B[39;00m\u001B[38;5;124m : \u001B[39m\u001B[38;5;132;01m{\u001B[39;00mdata_loaded[\u001B[38;5;124m'\u001B[39m\u001B[38;5;124mtype\u001B[39m\u001B[38;5;124m'\u001B[39m]\u001B[38;5;132;01m}\u001B[39;00m\u001B[38;5;124m\"\u001B[39m)\n\u001B[1;32m     27\u001B[0m     \u001B[38;5;28;01mfor\u001B[39;00m rec \u001B[38;5;129;01min\u001B[39;00m data_loaded[\u001B[38;5;124m'\u001B[39m\u001B[38;5;124mannotation\u001B[39m\u001B[38;5;124m'\u001B[39m]:\n\u001B[1;32m     28\u001B[0m         coordinates \u001B[38;5;241m=\u001B[39m \u001B[38;5;28mlist\u001B[39m(\u001B[38;5;28mzip\u001B[39m(rec[\u001B[38;5;124m'\u001B[39m\u001B[38;5;124mpoints\u001B[39m\u001B[38;5;124m'\u001B[39m][\u001B[38;5;124m'\u001B[39m\u001B[38;5;124mx\u001B[39m\u001B[38;5;124m'\u001B[39m], rec[\u001B[38;5;124m'\u001B[39m\u001B[38;5;124mpoints\u001B[39m\u001B[38;5;124m'\u001B[39m][\u001B[38;5;124m'\u001B[39m\u001B[38;5;124my\u001B[39m\u001B[38;5;124m'\u001B[39m]))\n",
      "\u001B[0;31mKeyError\u001B[0m: 'type'"
     ]
    }
   ],
   "source": [
    "import yaml\n",
    "import io\n",
    "import os\n",
    "import numpy as np\n",
    "\n",
    "CWFID_dataset = {\n",
    "    'annotations': os.path.join(*['CWFID_dataset', 'annotations']),\n",
    "    'images': os.path.join(*['CWFID_dataset', 'images']),\n",
    "    'masks': os.path.join(*['CWFID_dataset', 'masks']),\n",
    "    'SAM_masks': os.path.join(*['CWFID_dataset', 'SAM_masks'])\n",
    "}\n",
    "\n",
    "\n",
    "yaml_folder = CWFID_dataset['annotations']\n",
    "yaml_file_list = os.listdir(yaml_folder)\n",
    "yaml_file_list = [os.path.join(*[yaml_folder, f]) for f in yaml_file_list if\n",
    "                  f.endswith('.yaml')\n",
    "                  and not f.startswith('._')\n",
    "                  and os.path.isfile(os.path.join(*[yaml_folder, f]))\n",
    "                  ]\n",
    "yaml_file_list.sort() # contains ordered list of full paths only of yaml files inside yaml_folder\n",
    "\n",
    "for filename in yaml_file_list:\n",
    "    with open(filename, 'r') as stream:\n",
    "        data_loaded = yaml.safe_load(stream)\n",
    "        print(f\"{data_loaded['filename']} : {data_loaded['type']}\")\n",
    "        for rec in data_loaded['annotation']:\n",
    "            coordinates = list(zip(rec['points']['x'], rec['points']['y']))\n",
    "            n = len(coordinates)\n",
    "            labels = np.empty(n)\n",
    "            labels.fill(1)\n",
    "        pass"
   ]
  },
  {
   "cell_type": "code",
   "execution_count": null,
   "outputs": [],
   "source": [],
   "metadata": {
    "collapsed": false
   }
  }
 ],
 "metadata": {
  "kernelspec": {
   "display_name": "Python 3",
   "language": "python",
   "name": "python3"
  },
  "language_info": {
   "codemirror_mode": {
    "name": "ipython",
    "version": 2
   },
   "file_extension": ".py",
   "mimetype": "text/x-python",
   "name": "python",
   "nbconvert_exporter": "python",
   "pygments_lexer": "ipython2",
   "version": "2.7.6"
  }
 },
 "nbformat": 4,
 "nbformat_minor": 0
}
