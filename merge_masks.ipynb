{
 "cells": [
  {
   "cell_type": "code",
   "execution_count": 5,
   "metadata": {},
   "outputs": [],
   "source": [
    "import os\n",
    "\n",
    "base_folder_path = ['ESCA_dataset_robustness_paper']\n",
    "\n",
    "ESCA_dataset = {\n",
    "    'esca': {\n",
    "        'folder': os.path.join(*(base_folder_path + ['esca'])),\n",
    "        'esca_foliage_over_healthy_bg': os.path.join(*(base_folder_path + ['esca', 'esca_foliage_over_healthy_bg'])),\n",
    "        'masks': os.path.join(*(base_folder_path + ['esca', 'masks'])),\n",
    "        'pictures': os.path.join(*(base_folder_path + ['esca', 'pictures'])),\n",
    "        'SAM_masks': os.path.join(*(base_folder_path + ['esca', 'SAM_masks']))\n",
    "    },\n",
    "    'healthy': {\n",
    "        'folder': os.path.join(*(base_folder_path + ['healthy'])),\n",
    "        'healthy_foliage_over_esca_bg': os.path.join(*(base_folder_path + ['esca', 'healthy_foliage_over_esca_bg'])),\n",
    "        'masks': os.path.join(*(base_folder_path + ['healthy', 'masks'])),\n",
    "        'pictures': os.path.join(*(base_folder_path + ['healthy', 'pictures'])),\n",
    "        'SAM_masks': os.path.join(*(base_folder_path + ['healthy', 'SAM_masks']))\n",
    "    }\n",
    "}"
   ]
  },
  {
   "cell_type": "code",
   "execution_count": 6,
   "metadata": {},
   "outputs": [],
   "source": [
    "import numpy as np\n",
    "from PIL import Image\n",
    "import matplotlib.pyplot as plt\n",
    "\n",
    "def merge_binary_masks(containing_folder):\n",
    "    mask_file_list = os.listdir(containing_folder)\n",
    "    mask_file_list = [m for m in mask_file_list if m != 'metadata.csv' and m != '.DS_Store']\n",
    "    if len(mask_file_list) == 0:\n",
    "        return\n",
    "    result = None\n",
    "    # SAM generates a \"metadata.csv\" file inside containing_folder, and this file should not be processed by this function\n",
    "    # Mac OS also puts a file '.DS_Store' inside every folder\n",
    "    for count, filename in enumerate(mask_file_list):\n",
    "        full_name = os.path.join(*[containing_folder, filename])\n",
    "        msk = plt.imread(full_name)\n",
    "        if count == 0:\n",
    "            result = np.zeros(msk.shape)#all generated masks have the same shape (equal to the container image)\n",
    "        else:\n",
    "            result = np.logical_or(result, msk)\n",
    "    result_filename = f\"{containing_folder.split(os.sep)[-1]}_mask.png\"\n",
    "    result_fullname = os.path.join(*[containing_folder, result_filename])\n",
    "    print(f\"I will save file {result_fullname}.\")\n",
    "    Image.fromarray(result.astype('uint8')*255, mode='L').save(result_fullname)"
   ]
  },
  {
   "cell_type": "code",
   "execution_count": 8,
   "metadata": {},
   "outputs": [
    {
     "name": "stdout",
     "output_type": "stream",
     "text": [
      "I will save file ESCA_dataset_robustness_paper/esca/SAM_masks/esca_582_cam2/esca_582_cam2_mask.png.\n"
     ]
    },
    {
     "ename": "AttributeError",
     "evalue": "'NoneType' object has no attribute 'astype'",
     "output_type": "error",
     "traceback": [
      "\u001b[0;31m---------------------------------------------------------------------------\u001b[0m",
      "\u001b[0;31mAttributeError\u001b[0m                            Traceback (most recent call last)",
      "Cell \u001b[0;32mIn[8], line 5\u001b[0m\n\u001b[1;32m      3\u001b[0m containing_folder \u001b[39m=\u001b[39m os\u001b[39m.\u001b[39mpath\u001b[39m.\u001b[39mjoin(\u001b[39m*\u001b[39m[ESCA_dataset[k][\u001b[39m'\u001b[39m\u001b[39mSAM_masks\u001b[39m\u001b[39m'\u001b[39m], subfolder])\n\u001b[1;32m      4\u001b[0m \u001b[39mif\u001b[39;00m subfolder \u001b[39m!=\u001b[39m \u001b[39m'\u001b[39m\u001b[39mmetadata.csv\u001b[39m\u001b[39m'\u001b[39m \u001b[39mand\u001b[39;00m os\u001b[39m.\u001b[39mpath\u001b[39m.\u001b[39misdir(containing_folder):\n\u001b[0;32m----> 5\u001b[0m     merge_binary_masks(containing_folder)\n",
      "Cell \u001b[0;32mIn[6], line 21\u001b[0m, in \u001b[0;36mmerge_binary_masks\u001b[0;34m(containing_folder)\u001b[0m\n\u001b[1;32m     19\u001b[0m result_fullname \u001b[39m=\u001b[39m os\u001b[39m.\u001b[39mpath\u001b[39m.\u001b[39mjoin(\u001b[39m*\u001b[39m[containing_folder, result_filename])\n\u001b[1;32m     20\u001b[0m \u001b[39mprint\u001b[39m(\u001b[39mf\u001b[39m\u001b[39m\"\u001b[39m\u001b[39mI will save file \u001b[39m\u001b[39m{\u001b[39;00mresult_fullname\u001b[39m}\u001b[39;00m\u001b[39m.\u001b[39m\u001b[39m\"\u001b[39m)\n\u001b[0;32m---> 21\u001b[0m Image\u001b[39m.\u001b[39mfromarray(result\u001b[39m.\u001b[39;49mastype(\u001b[39m'\u001b[39m\u001b[39muint8\u001b[39m\u001b[39m'\u001b[39m)\u001b[39m*\u001b[39m\u001b[39m255\u001b[39m, mode\u001b[39m=\u001b[39m\u001b[39m'\u001b[39m\u001b[39mL\u001b[39m\u001b[39m'\u001b[39m)\u001b[39m.\u001b[39msave(result_fullname)\n",
      "\u001b[0;31mAttributeError\u001b[0m: 'NoneType' object has no attribute 'astype'"
     ]
    }
   ],
   "source": [
    "for k in ESCA_dataset.keys():\n",
    "    for subfolder in os.listdir(ESCA_dataset[k]['SAM_masks']):\n",
    "        containing_folder = os.path.join(*[ESCA_dataset[k]['SAM_masks'], subfolder])\n",
    "        if subfolder != 'metadata.csv' and os.path.isdir(containing_folder):\n",
    "            merge_binary_masks(containing_folder)"
   ]
  }
 ],
 "metadata": {
  "kernelspec": {
   "display_name": ".venv",
   "language": "python",
   "name": "python3"
  },
  "language_info": {
   "codemirror_mode": {
    "name": "ipython",
    "version": 3
   },
   "file_extension": ".py",
   "mimetype": "text/x-python",
   "name": "python",
   "nbconvert_exporter": "python",
   "pygments_lexer": "ipython3",
   "version": "3.10.10"
  },
  "orig_nbformat": 4
 },
 "nbformat": 4,
 "nbformat_minor": 2
}
